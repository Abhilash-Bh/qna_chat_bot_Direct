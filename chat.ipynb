{
 "cells": [
  {
   "cell_type": "code",
   "execution_count": 1,
   "metadata": {},
   "outputs": [
    {
     "data": {
      "text/plain": [
       "True"
      ]
     },
     "execution_count": 1,
     "metadata": {},
     "output_type": "execute_result"
    }
   ],
   "source": [
    "\n",
    "import os\n",
    "from langchain_groq import ChatGroq\n",
    "from langchain_core.prompts import ChatPromptTemplate\n",
    "from langchain_core.output_parsers import StrOutputParser\n",
    "\n",
    "from dotenv import load_dotenv\n",
    "load_dotenv()"
   ]
  },
  {
   "cell_type": "code",
   "execution_count": 2,
   "metadata": {},
   "outputs": [],
   "source": [
    "os.environ['GROQ_API_KEY']=os.getenv(\"GROQ_API_KEY\")\n",
    "groq_api_key=os.getenv(\"GROQ_API_KEY\")"
   ]
  },
  {
   "cell_type": "code",
   "execution_count": 3,
   "metadata": {},
   "outputs": [],
   "source": [
    "prompt=ChatPromptTemplate.from_messages(\n",
    "    [\n",
    "        (\"system\",\"You are a helpful assistant. Please respond to the question asked\"),\n",
    "        (\"user\",\"Question:{question}\")\n",
    "    ]\n",
    ")"
   ]
  },
  {
   "cell_type": "code",
   "execution_count": 4,
   "metadata": {},
   "outputs": [
    {
     "data": {
      "text/plain": [
       "ChatGroq(client=<groq.resources.chat.completions.Completions object at 0x000001B8CBE3D9D0>, async_client=<groq.resources.chat.completions.AsyncCompletions object at 0x000001B8CBCA9100>, model_name='Llama3-8b-8192', model_kwargs={}, groq_api_key=SecretStr('**********'))"
      ]
     },
     "execution_count": 4,
     "metadata": {},
     "output_type": "execute_result"
    }
   ],
   "source": [
    "llm=ChatGroq(groq_api_key=groq_api_key,model=\"Llama3-8b-8192\")\n",
    "llm"
   ]
  },
  {
   "cell_type": "code",
   "execution_count": 5,
   "metadata": {},
   "outputs": [],
   "source": [
    "output_parser=StrOutputParser()\n",
    "chain=prompt|llm|output_parser"
   ]
  },
  {
   "cell_type": "code",
   "execution_count": 7,
   "metadata": {},
   "outputs": [
    {
     "data": {
      "text/plain": [
       "'India is a vast and diverse country with a plethora of tourist attractions. It\\'s difficult to pinpoint a single \"best\" tourist spot, as it largely depends on personal preferences and interests. However, here are some of the most popular and iconic tourist spots in India:\\n\\n1. **Taj Mahal** (Agra, Uttar Pradesh): A stunning white marble mausoleum and one of the Seven Wonders of the World.\\n2. **Goa**: A beach lover\\'s paradise with golden sand, crystal-clear waters, and vibrant nightlife.\\n3. **Hampi** (Karnataka): An ancient city with ruins of the Vijayanagara Empire, showcasing India\\'s rich history and architecture.\\n4. **Darjeeling** (West Bengal): A charming hill station with tea gardens, toy train, and breathtaking Himalayan views.\\n5. **Varanasi** (Uttar Pradesh): One of the oldest continuously inhabited cities in the world, with a rich spiritual heritage and stunning ghats.\\n6. **Kerala Backwaters** (Kerala): A network of waterways and lakes, offering a relaxing boat ride through picturesque villages and lush greenery.\\n7. **Golden Temple** (Amritsar, Punjab): A beautiful gurudwara with a golden dome, surrounded by a sacred lake and gardens.\\n8. **Ajanta and Ellora Caves** (Maharashtra): Ancient Buddhist, Hindu, and Jain rock-cut temples and sculptures, showcasing India\\'s artistic and architectural heritage.\\n9. **Ranthambore National Park** (Rajasthan): A wildlife sanctuary with Bengal tigers, leopards, and other wildlife, offering exciting safaris.\\n10. **Ladakh** (Jammu and Kashmir): A breathtakingly beautiful region with towering Himalayan peaks, crystal-clear lakes, and monasteries.\\n11. **Puri** (Odisha): A sacred city with the Jagannath Temple, a important Hindu pilgrimage site.\\n12. **Kashmir** (Jammu and Kashmir): Known for its natural beauty, including the Dal Lake, Wular Lake, and the majestic Himalayas.\\n13. **Mysore Palace** (Karnataka): A stunning palace with intricate architecture, beautiful gardens, and a rich cultural heritage.\\n14. **Sundarbans** (West Bengal): The world\\'s largest mangrove forest, home to the Bengal tiger and other wildlife.\\n15. **Khajuraho Group of Monuments** (Madhya Pradesh): A UNESCO World Heritage Site with intricate and sensual carvings, showcasing ancient Indian art and architecture.\\n\\nThese are just a few examples of the many amazing tourist spots in India. Depending on your interests, you may find other places that are more suitable for your travel plans.'"
      ]
     },
     "execution_count": 7,
     "metadata": {},
     "output_type": "execute_result"
    }
   ],
   "source": [
    "chain.invoke({\"question\":\"what is be best tourist spot in india\"})"
   ]
  }
 ],
 "metadata": {
  "kernelspec": {
   "display_name": "Python 3",
   "language": "python",
   "name": "python3"
  },
  "language_info": {
   "codemirror_mode": {
    "name": "ipython",
    "version": 3
   },
   "file_extension": ".py",
   "mimetype": "text/x-python",
   "name": "python",
   "nbconvert_exporter": "python",
   "pygments_lexer": "ipython3",
   "version": "3.12.11"
  }
 },
 "nbformat": 4,
 "nbformat_minor": 2
}
